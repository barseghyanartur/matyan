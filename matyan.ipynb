{
 "cells": [
  {
   "cell_type": "markdown",
   "source": [
    "The following would produce output equivalent to the output of \n",
    "the ``generate-changelog --show-releases`` command."
   ],
   "metadata": {
    "collapsed": false
   }
  },
  {
   "cell_type": "code",
   "execution_count": 1,
   "metadata": {
    "collapsed": true,
    "pycharm": {
     "is_executing": false,
     "name": "#%%\n"
    }
   },
   "outputs": [
    {
     "data": {
      "text/plain": "<IPython.core.display.Markdown object>",
      "text/markdown": "\n### 0.2\n\n#### Feature\n\n##### MSFT-1238 Token authentication\n\n- Update authentication docs. [Artur Barseghyan]\n- Implement token authentication. [Artur Barseghyan]\n\n##### MSFT-1237 Improve document sharing\n\n- Improve document sharing. Add option to share via GDrive. [Artur Barseghyan]\n\n### 0.1\n\n#### Bugfix\n\n##### MSFT-1236 Prevent duplicate postal codes\n\n- Make postal code field unique for the country. [Artur Barseghyan]\n- Normalise postal codes for US addresses. [Artur Barseghyan]\n- Normalise postal codes for German addresses. [Artur Barseghyan]\n\n#### Deprecation\n\n##### MSFT-1235 Deprecate old api\n\n- Update docs. [Artur Barseghyan]\n- Deprecate API v 2. 0. [Artur Barseghyan]\n\n#### Feature\n\n##### MSFT-1234 Car type suggester\n\n- Add insurance amount indication based on car weight. [Artur Barseghyan]\n- Initial car type suggester implementation. [Artur Barseghyan]\n\n#### Other\n\n- Readme. [Artur Barseghyan]\n"
     },
     "metadata": {},
     "output_type": "display_data"
    }
   ],
   "source": [
    "import os\n",
    "from IPython.display import display, Markdown, Latex\n",
    "from subprocess import check_output\n",
    "from matyan.helpers import project_dir\n",
    "os.chdir(project_dir(os.path.join('tests', 'matyan-testing')))\n",
    "res = check_output([\n",
    "    'generate-changelog',\n",
    "    '--show-releases',\n",
    "])\n",
    "\n",
    "display(Markdown(res.decode()))"
   ]
  }
 ],
 "metadata": {
  "kernelspec": {
   "display_name": "Python 3",
   "language": "python",
   "name": "python3"
  },
  "language_info": {
   "codemirror_mode": {
    "name": "ipython",
    "version": 2
   },
   "file_extension": ".py",
   "mimetype": "text/x-python",
   "name": "python",
   "nbconvert_exporter": "python",
   "pygments_lexer": "ipython2",
   "version": "2.7.6"
  },
  "pycharm": {
   "stem_cell": {
    "cell_type": "raw",
    "source": [],
    "metadata": {
     "collapsed": false
    }
   }
  }
 },
 "nbformat": 4,
 "nbformat_minor": 0
}