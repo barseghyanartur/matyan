{
 "cells": [
  {
   "cell_type": "markdown",
   "metadata": {},
   "source": [
    "# ``Matyan`` Jupyter notebook examples\n",
    "\n",
    "## Example 1 \n",
    "\n",
    "The following would produce output equivalent to the output of \n",
    "the ``generate-changelog --show-releases`` command in the testing \n",
    "repository [matyan-testing](https://bitbucket.org/barseghyanartur/matyan-testing/)."
   ]
  },
  {
   "cell_type": "code",
   "execution_count": null,
   "metadata": {
    "pycharm": {
     "is_executing": false,
     "name": "#%%\n"
    }
   },
   "outputs": [],
   "source": [
    "import os\n",
    "from IPython.display import display, Markdown\n",
    "from subprocess import check_output\n",
    "from matyan.helpers import project_dir\n",
    "os.chdir(project_dir(os.path.join('tests', 'matyan-testing')))\n",
    "res = check_output([\n",
    "    'generate-changelog',\n",
    "    '--show-releases',\n",
    "])\n",
    "\n",
    "display(Markdown(res.decode()))"
   ]
  },
  {
   "cell_type": "markdown",
   "metadata": {},
   "source": [
    "## Example 2\n",
    "\n",
    "The following would produce output equivalent to the output of \n",
    "the ``generate-changelog --show-releases`` command in this repository."
   ]
  },
  {
   "cell_type": "code",
   "execution_count": null,
   "metadata": {
    "pycharm": {
     "name": "#%%\n"
    }
   },
   "outputs": [],
   "source": [
    "from IPython.display import display, Markdown\n",
    "from subprocess import check_output\n",
    "os.chdir(project_dir(os.path.join('..', '..')))\n",
    "res = check_output([\n",
    "    'generate-changelog',\n",
    "    '--show-releases',\n",
    "])\n",
    "display(Markdown(res.decode()))"
   ]
  },
  {
   "cell_type": "markdown",
   "metadata": {
    "pycharm": {
     "name": "#%% md\n"
    }
   },
   "source": [
    "## Example 3 \n",
    "\n",
    "The following would produce output equivalent to the output of \n",
    "the ``generate-changelog --show-releases --fetch-description --renderer=rest`` \n",
    "command in another testing repository \n",
    "[matyan-testing-jira-integration](https://bitbucket.org/barseghyanartur/matyan-testing-jira-integration/)."
   ]
  },
  {
   "cell_type": "code",
   "execution_count": null,
   "metadata": {
    "pycharm": {
     "name": "#%%\n"
    }
   },
   "outputs": [],
   "source": [
    "import os\n",
    "from subprocess import check_output\n",
    "from matyan.helpers import project_dir\n",
    "os.chdir(project_dir(os.path.join('tests', 'matyan-testing-jira-integration')))\n",
    "res = check_output([\n",
    "    'generate-changelog',\n",
    "    '--show-releases',\n",
    "    '--fetch-description',\n",
    "    '--renderer=rest'\n",
    "])\n",
    "\n",
    "print(res.decode())"
   ]
  }
 ],
 "metadata": {
  "kernelspec": {
   "display_name": "Python 3",
   "language": "python",
   "name": "python3"
  },
  "language_info": {
   "codemirror_mode": {
    "name": "ipython",
    "version": 3
   },
   "file_extension": ".py",
   "mimetype": "text/x-python",
   "name": "python",
   "nbconvert_exporter": "python",
   "pygments_lexer": "ipython3",
   "version": "3.6.9"
  },
  "pycharm": {
   "stem_cell": {
    "cell_type": "raw",
    "metadata": {
     "collapsed": false
    },
    "source": []
   }
  }
 },
 "nbformat": 4,
 "nbformat_minor": 1
}
