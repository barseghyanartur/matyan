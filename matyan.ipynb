{
 "cells": [
  {
   "cell_type": "markdown",
   "metadata": {},
   "source": [
    "# ``Matyan`` Jupyter notebook examples\n",
    "\n",
    "## Example 1 \n",
    "\n",
    "The following would produce output equivalent to the output of \n",
    "the ``generate-changelog --show-releases`` command in the testing \n",
    "repository [matyan-testing](https://bitbucket.org/barseghyanartur/matyan-testing/)."
   ]
  },
  {
   "cell_type": "code",
   "execution_count": 18,
   "metadata": {
    "pycharm": {
     "is_executing": false,
     "name": "#%%\n"
    }
   },
   "outputs": [
    {
     "data": {
      "text/markdown": [
       "\n",
       "### 0.2\n",
       "\n",
       "#### Feature\n",
       "\n",
       "##### MSFT-1238 Token authentication\n",
       "\n",
       "- Update authentication docs. [Artur Barseghyan]\n",
       "- Implement token authentication. [Artur Barseghyan]\n",
       "\n",
       "##### MSFT-1237 Improve document sharing\n",
       "\n",
       "- Improve document sharing. Add option to share via GDrive. [Artur Barseghyan]\n",
       "\n",
       "### 0.1\n",
       "\n",
       "#### Bugfix\n",
       "\n",
       "##### MSFT-1236 Prevent duplicate postal codes\n",
       "\n",
       "- Make postal code field unique for the country. [Artur Barseghyan]\n",
       "- Normalise postal codes for US addresses. [Artur Barseghyan]\n",
       "- Normalise postal codes for German addresses. [Artur Barseghyan]\n",
       "\n",
       "#### Deprecation\n",
       "\n",
       "##### MSFT-1235 Deprecate old api\n",
       "\n",
       "- Update docs. [Artur Barseghyan]\n",
       "- Deprecate API v 2. 0. [Artur Barseghyan]\n",
       "\n",
       "#### Feature\n",
       "\n",
       "##### MSFT-1234 Car type suggester\n",
       "\n",
       "- Add insurance amount indication based on car weight. [Artur Barseghyan]\n",
       "- Initial car type suggester implementation. [Artur Barseghyan]\n",
       "\n",
       "#### Other\n",
       "\n",
       "- Readme. [Artur Barseghyan]\n"
      ],
      "text/plain": [
       "<IPython.core.display.Markdown object>"
      ]
     },
     "metadata": {},
     "output_type": "display_data"
    }
   ],
   "source": [
    "import os\n",
    "from IPython.display import display, Markdown\n",
    "from subprocess import check_output\n",
    "from matyan.helpers import project_dir\n",
    "os.chdir(project_dir(os.path.join('tests', 'matyan-testing')))\n",
    "res = check_output([\n",
    "    'generate-changelog',\n",
    "    '--show-releases',\n",
    "])\n",
    "\n",
    "display(Markdown(res.decode()))"
   ]
  },
  {
   "cell_type": "markdown",
   "metadata": {},
   "source": [
    "## Example 2\n",
    "\n",
    "The following would produce output equivalent to the output of \n",
    "the ``generate-changelog --show-releases`` command in this repository."
   ]
  },
  {
   "cell_type": "code",
   "execution_count": 19,
   "metadata": {
    "pycharm": {
     "name": "#%%\n"
    }
   },
   "outputs": [
    {
     "data": {
      "text/markdown": [
       "\n",
       "### Unreleased\n",
       "\n",
       "#### Other\n",
       "\n",
       "- 28 Ensure correct order of releases. Update tests. [Artur Barseghyan]\n",
       "- 28 Attempts to fix order of releases. Replace releases dict with OrderedDict. [Artur Barseghyan]\n",
       "- Add debian package. [Artur Barseghyan]\n",
       "- Add Jupyter notebook examples. [Artur Barseghyan]\n",
       "- Add jupyter example. [Artur Barseghyan]\n",
       "- Exclude unnecessary data from distribution. [Artur Barseghyan]\n",
       "\n",
       "### 0.4.2\n",
       "\n",
       "#### Other\n",
       "\n",
       "- Prepare 0. 4. 2. [Artur Barseghyan]\n",
       "- Fixes. [Artur Barseghyan]\n",
       "- Add better logging message. [Artur Barseghyan]\n",
       "- Add logging. [Artur Barseghyan]\n",
       "- Add debian package. [Artur Barseghyan]\n",
       "\n",
       "### 0.4.1\n",
       "\n",
       "#### Other\n",
       "\n",
       "- Prepare 0. 4. 1. [Artur Barseghyan]\n",
       "- Fix. [Artur Barseghyan]\n",
       "- Fixes. [Artur Barseghyan]\n",
       "- Docs. [Artur Barseghyan]\n",
       "\n",
       "### 0.4\n",
       "\n",
       "#### Other\n",
       "\n",
       "- Prepare 0. 4. [Artur Barseghyan]\n",
       "- 21 Add renderers (markdown, rest). Update tests. [Artur Barseghyan]\n",
       "- Benchmarking. [Artur Barseghyan]\n",
       "- Add renderer classes (initial impl) [Artur Barseghyan]\n",
       "- Allow global config. [Artur Barseghyan]\n",
       "- 21 Working fetching additional information from Jira. [Artur Barseghyan]\n",
       "- 21 Broader regex pattern for matching ticket number. Typing in helpers. Add docs about new testing project. [Artur Barseghyan]\n",
       "- 21 More on typing and reqs. [Artur Barseghyan]\n",
       "- 21 Fix tests. [Artur Barseghyan]\n",
       "- 21 Optionally add info from JIRA. [Artur Barseghyan]\n",
       "- Opt. [Artur Barseghyan]\n",
       "- Fix travis tests. [Artur Barseghyan]\n",
       "- Add debian package. [Artur Barseghyan]\n",
       "\n",
       "### 0.3.4\n",
       "\n",
       "#### Other\n",
       "\n",
       "- Prepare 0. 3. 4. [Artur Barseghyan]\n",
       "- Clean up. [Artur Barseghyan]\n",
       "- Add   unreleased only. [Artur Barseghyan]\n",
       "\n",
       "### 0.3.3\n",
       "\n",
       "#### Other\n",
       "\n",
       "- Prepare 0. 3. 3. [Artur Barseghyan]\n",
       "- Tests for auto correct. [Artur Barseghyan]\n",
       "- Add debian package version 0. 3. 2. [Artur Barseghyan]\n",
       "\n",
       "### 0.3.2\n",
       "\n",
       "#### Other\n",
       "\n",
       "- Prepare 0. 3. 2. [Artur Barseghyan]\n",
       "- Clean up, fixes in tests. [Artur Barseghyan]\n",
       "- Reflect latest changes in the tests. [Artur Barseghyan]\n",
       "- Add text beatification (add final dot, capitalization) [Artur Barseghyan]\n",
       "- Version up. [Artur Barseghyan]\n",
       "- Clean uip. [Artur Barseghyan]\n",
       "- Fixes in rendering logic. [Artur Barseghyan]\n",
       "- Clean up. [Artur Barseghyan]\n",
       "- Fix. [Artur Barseghyan]\n",
       "- Debian package 0. 3. 1. [Artur Barseghyan]\n",
       "- Fixes in docs. [Artur Barseghyan]\n",
       "\n",
       "### 0.3.1\n",
       "\n",
       "#### Other\n",
       "\n",
       "- Prepare 0. 3. 1. [Artur Barseghyan]\n",
       "- Add more tests. [Artur Barseghyan]\n",
       "- Add option to generate headings only (no commit messages) [Artur Barseghyan]\n",
       "- Update docs. [Artur Barseghyan]\n",
       "- Add debian package. [Artur Barseghyan]\n",
       "- Remove unused circleci. [Artur Barseghyan]\n",
       "\n",
       "### 0.3\n",
       "\n",
       "#### Other\n",
       "\n",
       "- Fix. [Artur Barseghyan]\n",
       "- Prepare 0. 3. [Artur Barseghyan]\n",
       "- Fix bitbucket merge pattern. Testable functions. [Artur Barseghyan]\n",
       "- More. [Artur Barseghyan]\n",
       "\n",
       "### 0.2.1\n",
       "\n",
       "#### Other\n",
       "\n",
       "- Prepare 0. 2. 1. [Artur Barseghyan]\n",
       "\n",
       "### 0.2\n",
       "\n",
       "#### Other\n",
       "\n",
       "- Prepare 0. 2. [Artur Barseghyan]\n",
       "- Fixes in tests. [Artur Barseghyan]\n",
       "- Hide empty sections/records. [Artur Barseghyan]\n",
       "- Add option to show latest release only. [Artur Barseghyan]\n",
       "- Attempt to increase coverage. [Artur Barseghyan]\n",
       "- Fixes. [Artur Barseghyan]\n",
       "- Fix coverage. [Artur Barseghyan]\n",
       "\n",
       "### 0.1\n",
       "\n",
       "#### Other\n",
       "\n",
       "- Prepare 0. 1. [Artur Barseghyan]\n",
       "- Possible fix for travis test. [Artur Barseghyan]\n",
       "- Fixes in travis tests. [Artur Barseghyan]\n",
       "- Fixes in docs. [Artur Barseghyan]\n",
       "- Move basic concepts into a separate file. [Artur Barseghyan]\n",
       "- Add initial tests. [Artur Barseghyan]\n",
       "- Update docs, add command for creating config file, minor fixes. [Artur Barseghyan]\n",
       "- Temporary fix for json decoding issue with double quote. [Artur Barseghyan]\n",
       "- Fixes. [Artur Barseghyan]\n",
       "- Clean up. [Artur Barseghyan]\n",
       "- Fix typos. [Artur Barseghyan]\n",
       "\n",
       "### 0.0.2\n",
       "\n",
       "#### Other\n",
       "\n",
       "- Prepare 0. 0. 2. [Artur Barseghyan]\n",
       "- Fixes in docs. [Artur Barseghyan]\n",
       "\n",
       "### 0.0.1\n",
       "\n",
       "#### Other\n",
       "\n",
       "- Prepare 0. 0. 1. [Artur Barseghyan]\n",
       "- Change documentation link. [Artur Barseghyan]\n",
       "- Fixes in docs. [Artur Barseghyan]\n",
       "- Initial commit. [Artur Barseghyan]\n"
      ],
      "text/plain": [
       "<IPython.core.display.Markdown object>"
      ]
     },
     "metadata": {},
     "output_type": "display_data"
    }
   ],
   "source": [
    "from IPython.display import display, Markdown\n",
    "from subprocess import check_output\n",
    "os.chdir(project_dir(os.path.join('..', '..')))\n",
    "res = check_output([\n",
    "    'generate-changelog',\n",
    "    '--show-releases',\n",
    "])\n",
    "display(Markdown(res.decode()))"
   ]
  },
  {
   "cell_type": "markdown",
   "metadata": {
    "pycharm": {
     "name": "#%% md\n"
    }
   },
   "source": [
    "## Example 3 \n",
    "\n",
    "The following would produce output equivalent to the output of \n",
    "the ``generate-changelog --show-releases --fetch-description --renderer=rest`` \n",
    "command in another testing repository \n",
    "[matyan-testing-jira-integration](https://bitbucket.org/barseghyanartur/matyan-testing-jira-integration/)."
   ]
  },
  {
   "cell_type": "code",
   "execution_count": 20,
   "metadata": {
    "pycharm": {
     "name": "#%%\n"
    }
   },
   "outputs": [
    {
     "name": "stdout",
     "output_type": "stream",
     "text": [
      "\n",
      "0.1\n",
      "---\n",
      "\n",
      "Deprecation\n",
      "~~~~~~~~~~~\n",
      "\n",
      "MAT-2 Deprecate old api\n",
      "^^^^^^^^^^^^^^^^^^^^^^^\n",
      "\n",
      ".. code-block: text\n",
      "\n",
      "    Deprecate old API.\n",
      "\n",
      "    * Show deprecation warnings in the Python client.\n",
      "    * Return deprecation message with results.\n",
      "    * Prepare switch to turn off old API.\n",
      "\n",
      "- Update docs. [Artur Barseghyan]\n",
      "- Deprecate API v 2. [Artur Barseghyan]\n",
      "\n",
      "Feature\n",
      "~~~~~~~\n",
      "\n",
      "MAT-1 Car type suggester\n",
      "^^^^^^^^^^^^^^^^^^^^^^^^\n",
      "\n",
      ".. code-block: text\n",
      "\n",
      "    Implement cat type suggester. Pay attention to the details.\n",
      "\n",
      "- Add insurance amount indication based on car weight. [Artur Barseghyan]\n",
      "- Initial car type suggester implementation. [Artur Barseghyan]\n",
      "\n",
      "Other\n",
      "~~~~~\n",
      "\n",
      "- README. Rst created online with Bitbucket. [Artur Barseghyan]\n",
      "\n"
     ]
    }
   ],
   "source": [
    "import os\n",
    "from subprocess import check_output\n",
    "from matyan.helpers import project_dir\n",
    "os.chdir(project_dir(os.path.join('tests', 'matyan-testing-jira-integration')))\n",
    "res = check_output([\n",
    "    'generate-changelog',\n",
    "    '--show-releases',\n",
    "    '--fetch-description',\n",
    "    '--renderer=rest'\n",
    "])\n",
    "\n",
    "print(res.decode())"
   ]
  },
  {
   "cell_type": "code",
   "execution_count": null,
   "metadata": {},
   "outputs": [],
   "source": []
  },
  {
   "cell_type": "code",
   "execution_count": null,
   "metadata": {},
   "outputs": [],
   "source": []
  }
 ],
 "metadata": {
  "kernelspec": {
   "display_name": "Python 3",
   "language": "python",
   "name": "python3"
  },
  "language_info": {
   "codemirror_mode": {
    "name": "ipython",
    "version": 3
   },
   "file_extension": ".py",
   "mimetype": "text/x-python",
   "name": "python",
   "nbconvert_exporter": "python",
   "pygments_lexer": "ipython3",
   "version": "3.6.9"
  },
  "pycharm": {
   "stem_cell": {
    "cell_type": "raw",
    "metadata": {
     "collapsed": false
    },
    "source": []
   }
  }
 },
 "nbformat": 4,
 "nbformat_minor": 1
}
